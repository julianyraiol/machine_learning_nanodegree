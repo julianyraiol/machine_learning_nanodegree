{
 "cells": [
  {
   "cell_type": "code",
   "execution_count": 1,
   "metadata": {},
   "outputs": [],
   "source": [
    "import pandas as pd\n",
    "import numpy as np\n",
    "import matplotlib.pyplot as plt\n",
    "%matplotlib inline"
   ]
  },
  {
   "cell_type": "markdown",
   "metadata": {},
   "source": [
    "## Regressão Linear"
   ]
  },
  {
   "cell_type": "markdown",
   "metadata": {},
   "source": [
    "A Regressão Linear é usada entender a relação entre variáveis que irão explicar determinado comportamento. "
   ]
  },
  {
   "cell_type": "markdown",
   "metadata": {},
   "source": [
    "Pode ser usada para:\n",
    "    \n",
    "* Predição de demandas para produtos\n",
    "* Ajudar a entender o efeitos de certos tratamentos em um paciente\n",
    "* Entender quais fatores influenciam em uma economia equilibrada\n",
    "\n",
    "Existem vários tipos de regressão, tais como:\n",
    "\n",
    "* Regressão Linear Simples\n",
    "* Regressão Linear Múltipla\n",
    "* Regressão Logística\n",
    "* Regressão Polinomial"
   ]
  },
  {
   "cell_type": "markdown",
   "metadata": {},
   "source": [
    "## Regressão Linear Simples"
   ]
  },
  {
   "cell_type": "markdown",
   "metadata": {},
   "source": [
    "A regressão linear simples irá mostrar a relação entre duas variáveis. Como a variação na variável independente podem influenciar no valor da dependente. "
   ]
  },
  {
   "cell_type": "markdown",
   "metadata": {},
   "source": [
    "Pode ser entendida como uma equação da reta, onde existe uma variável Y (dependente) cujo valor está relacionado à X (independente). O objetivo dessa abordagem é chegar ao valor de Y a partir de X. "
   ]
  },
  {
   "cell_type": "markdown",
   "metadata": {},
   "source": [
    "\\begin{equation}\n",
    "\\label{eq:linear_regression}\n",
    "y_1 = \\beta_01 + \\beta_1x_1\n",
    "\\end{equation}\n",
    "\n",
    "* $y_n$  = Variável dependente \n",
    "* $x_n$  = Variável independente "
   ]
  },
  {
   "cell_type": "markdown",
   "metadata": {},
   "source": [
    "Por exemplo, a variável dependente é o resultado da predição de demandas de produtos em uma loja. "
   ]
  },
  {
   "cell_type": "markdown",
   "metadata": {},
   "source": [
    "### O que signfica ser <i>linear</i>?\n",
    "\n",
    "Todos os termos são uma constante ou um parâmetro multiplicado por uma variável independente.\n",
    "\n",
    "\\begin{equation}\n",
    "\\label{eq:linear_regression}\n",
    "y_1 = \\beta_01 + \\beta_1x_1\n",
    "\\end{equation}\n",
    "\n",
    "* $\\beta_0$  = Variável que intercepta o eixo Y \n",
    "* $\\beta_1$  = Variável que que indica a inclinação da reta \n",
    "\n",
    "<a href='https://www.youtube.com/watch?v=yEUKougrRSk&t=200s'> <img src='../img/simple_linear.png' style='width=30px'> </a>"
   ]
  },
  {
   "cell_type": "markdown",
   "metadata": {},
   "source": [
    "De maneira geral, o objetivo do algoritmo é gerar uma reta que faça a divisão entre os pontos, por exemplo, do gráfico abaixo."
   ]
  },
  {
   "cell_type": "code",
   "execution_count": 2,
   "metadata": {},
   "outputs": [
    {
     "data": {
      "text/plain": [
       "[<matplotlib.lines.Line2D at 0x7f633faa14a8>]"
      ]
     },
     "execution_count": 2,
     "metadata": {},
     "output_type": "execute_result"
    },
    {
     "data": {
      "image/png": "[encoded data removed]",
      "text/plain": [
       "<Figure size 432x288 with 2 Axes>"
      ]
     },
     "metadata": {
      "needs_background": "light"
     },
     "output_type": "display_data"
    }
   ],
   "source": [
    "np.random.seed(42)\n",
    "x = np.linspace(-10,10, 20)\n",
    "y = x * .1 + 3 + np.random.normal(0,2,size=20)\n",
    "\n",
    "fig, (ax1, ax2) = plt.subplots(1, 2)\n",
    "fig.suptitle('Regressão Linear Simples')\n",
    "\n",
    "ax1.scatter(x, y)\n",
    "ax2.scatter(x, y)\n",
    "ax2.scatter(1, 1 * .1 + 3, c='C4', s=100)\n",
    "ax2.plot(x, x * .1 + 3, c='C1')"
   ]
  },
  {
   "cell_type": "markdown",
   "metadata": {},
   "source": [
    "### Como saber o quão boa é a linha gerada? \n",
    "\n",
    "A melhor linha é aquela onde todos os pontos possuem a menor distância até a reta gerada. \n",
    "\n",
    "<img src='../img/mean_error.png' style='width:30%' > \n",
    "\n",
    "Uma maneira de se obter o melhor <i>fit</i>, é por meio do cálculo das funções de custo. As mais comuns são: \n",
    "\n",
    "* Erro absoluto médio\n",
    "* Erro quadrático médio\n",
    "\n",
    "É necessário desenvolver um algoritmo para minimizar essas funções.\n",
    "\n",
    "### Erro absoluto médio\n",
    "\n",
    "Considere que o eixo y representa o valor a ser predito, considerando o valor da variável x. Na figura abaixo, o ponto a ser predito está localizado na coordenada A(x,y) e o ponto identificado pelo algoritmo, aquele que intercepta a reta, é identificado por B(x, ŷ). Logo, o erro para essa predição é a distância vertical do ponto (x,y) a (x, ŷ), ou seja, a subtração dos valores y-ŷ. \n",
    "\n",
    "<img src='../img/mean_absolute_error.png' style='width:30%' > \n",
    "\n",
    "Dessa forma, o cálculo do erro absoluto será a média de todos os pontos acima e abaixo da reta.\n",
    "\n",
    "\\begin{equation}\n",
    "Error=\\sum_{i=1}^m |y-ŷ|\n",
    "\\end{equation}\n",
    "\n",
    "Por que usamos o valor absoluto? \n",
    "\n",
    "Porque queremos que os pontos positivos não sejam anulados pelos pontos negativos durante o somatório.\n",
    "\n",
    "* Se o ponto estiver acima da reta, a dist\n",
    "*\n",
    "\n",
    "### Erro quadrático médio"
   ]
  },
  {
   "cell_type": "markdown",
   "metadata": {},
   "source": [
    "Trabalhando em um contexto real, os <i> datasets </i> são arquivos que contém diversas informações que podem inferir no valor a ser predito. As dimensões variam muito também. Dessa forma, entende-se que cada coluna do arquivo é uma variável e cada linha uma equação (ou observações) do tipo:  "
   ]
  },
  {
   "cell_type": "markdown",
   "metadata": {},
   "source": [
    "\\begin{equation}\n",
    "\\label{eq:linear_regression}\n",
    "y_1 = \\beta_01 + \\beta_1x_1 + ... + \\beta_nx_1\n",
    "\\end{equation}\n",
    "\n",
    "* $y_n$  = Variável dependente \n",
    "* $x_n$  = Variável independente "
   ]
  },
  {
   "cell_type": "markdown",
   "metadata": {},
   "source": [
    "De modo geral, ficaria algo assim:\n",
    "\n",
    "$$\\begin{cases} \n",
    " \\beta_01 + \\beta_1x_1 + ... + \\beta_nx_1 = y_1\\\\\n",
    "\\beta_01 + \\beta_1x_2 + ... + \\beta_nx_2 = y_2 \\\\\n",
    "... \\\\\n",
    "\\beta_01 + \\beta_1x_n + ... + \\beta_nx_n = y_n \\\\\n",
    "\\end{cases}$$"
   ]
  },
  {
   "cell_type": "markdown",
   "metadata": {},
   "source": [
    "Sistemas lineares muito complexos com o número de observações maior que a dimensão não possuem resolução, normalmente. É o caso do contexto atual. \n",
    "\n",
    "Considerando também que "
   ]
  },
  {
   "cell_type": "markdown",
   "metadata": {},
   "source": [
    "### Gradiente descente"
   ]
  },
  {
   "cell_type": "markdown",
   "metadata": {},
   "source": [
    " "
   ]
  },
  {
   "cell_type": "markdown",
   "metadata": {},
   "source": []
  },
  {
   "cell_type": "markdown",
   "metadata": {},
   "source": [
    "## Referências\n",
    "\n",
    "[Regressão Linear Simples](https://www.ime.usp.br/~fmachado/MAE229/AULA10.pdf)\n",
    "\n",
    "[Regressão Linear Simples II](https://edisciplinas.usp.br/pluginfile.php/1479289/mod_resource/content/0/regr_lin.pdf)\n",
    "\n",
    "[Análise de Regressão](https://www.ime.unicamp.br/~nancy/Cursos/me104/regressao.pdf)\n",
    "\n"
   ]
  },
  {
   "cell_type": "code",
   "execution_count": null,
   "metadata": {},
   "outputs": [],
   "source": []
  }
 ],
 "metadata": {
  "kernelspec": {
   "display_name": "Python 3",
   "language": "python",
   "name": "python3"
  },
  "language_info": {
   "codemirror_mode": {
    "name": "ipython",
    "version": 3
   },
   "file_extension": ".py",
   "mimetype": "text/x-python",
   "name": "python",
   "nbconvert_exporter": "python",
   "pygments_lexer": "ipython3",
   "version": "3.7.3"
  }
 },
 "nbformat": 4,
 "nbformat_minor": 2
}
